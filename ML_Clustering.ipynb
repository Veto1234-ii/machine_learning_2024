{
  "nbformat": 4,
  "nbformat_minor": 0,
  "metadata": {
    "colab": {
      "provenance": []
    },
    "kernelspec": {
      "name": "python3",
      "display_name": "Python 3"
    },
    "language_info": {
      "name": "python"
    }
  },
  "cells": [
    {
      "cell_type": "code",
      "execution_count": 33,
      "metadata": {
        "id": "cetqLgUgmnKL"
      },
      "outputs": [],
      "source": [
        "import csv\n",
        "import pandas as pd\n",
        "import matplotlib.pyplot as plt\n",
        "import numpy as np\n",
        "import sklearn\n",
        "import seaborn as sns\n",
        "from sklearn.preprocessing import OneHotEncoder, LabelEncoder, StandardScaler\n",
        "from sklearn.model_selection import train_test_split\n",
        "from sklearn.cluster import KMeans, DBSCAN, AgglomerativeClustering\n",
        "from sklearn.metrics import adjusted_rand_score, silhouette_score\n",
        "from sklearn.decomposition import PCA\n",
        "import matplotlib.cm as cm\n",
        "\n",
        "from sklearn.metrics import silhouette_samples, silhouette_score\n",
        "from sklearn.cluster import AgglomerativeClustering\n",
        "from scipy.cluster.hierarchy import dendrogram"
      ]
    },
    {
      "cell_type": "code",
      "source": [
        "from google.colab import files\n",
        "uploaded = files.upload()\n",
        "\n",
        "import io\n",
        "data_raw = pd.read_csv(io.BytesIO(uploaded['ObesityDataSet_raw_and_data_sinthetic_.csv']))"
      ],
      "metadata": {
        "colab": {
          "base_uri": "https://localhost:8080/",
          "height": 73
        },
        "id": "jKIHTaJbrfwn",
        "outputId": "a2c052e7-42bf-4094-d8fb-540f8d5113c4"
      },
      "execution_count": null,
      "outputs": [
        {
          "output_type": "display_data",
          "data": {
            "text/plain": [
              "<IPython.core.display.HTML object>"
            ],
            "text/html": [
              "\n",
              "     <input type=\"file\" id=\"files-bbd3a6cb-1cdc-4bc3-bd14-e52f079ec168\" name=\"files[]\" multiple disabled\n",
              "        style=\"border:none\" />\n",
              "     <output id=\"result-bbd3a6cb-1cdc-4bc3-bd14-e52f079ec168\">\n",
              "      Upload widget is only available when the cell has been executed in the\n",
              "      current browser session. Please rerun this cell to enable.\n",
              "      </output>\n",
              "      <script>// Copyright 2017 Google LLC\n",
              "//\n",
              "// Licensed under the Apache License, Version 2.0 (the \"License\");\n",
              "// you may not use this file except in compliance with the License.\n",
              "// You may obtain a copy of the License at\n",
              "//\n",
              "//      http://www.apache.org/licenses/LICENSE-2.0\n",
              "//\n",
              "// Unless required by applicable law or agreed to in writing, software\n",
              "// distributed under the License is distributed on an \"AS IS\" BASIS,\n",
              "// WITHOUT WARRANTIES OR CONDITIONS OF ANY KIND, either express or implied.\n",
              "// See the License for the specific language governing permissions and\n",
              "// limitations under the License.\n",
              "\n",
              "/**\n",
              " * @fileoverview Helpers for google.colab Python module.\n",
              " */\n",
              "(function(scope) {\n",
              "function span(text, styleAttributes = {}) {\n",
              "  const element = document.createElement('span');\n",
              "  element.textContent = text;\n",
              "  for (const key of Object.keys(styleAttributes)) {\n",
              "    element.style[key] = styleAttributes[key];\n",
              "  }\n",
              "  return element;\n",
              "}\n",
              "\n",
              "// Max number of bytes which will be uploaded at a time.\n",
              "const MAX_PAYLOAD_SIZE = 100 * 1024;\n",
              "\n",
              "function _uploadFiles(inputId, outputId) {\n",
              "  const steps = uploadFilesStep(inputId, outputId);\n",
              "  const outputElement = document.getElementById(outputId);\n",
              "  // Cache steps on the outputElement to make it available for the next call\n",
              "  // to uploadFilesContinue from Python.\n",
              "  outputElement.steps = steps;\n",
              "\n",
              "  return _uploadFilesContinue(outputId);\n",
              "}\n",
              "\n",
              "// This is roughly an async generator (not supported in the browser yet),\n",
              "// where there are multiple asynchronous steps and the Python side is going\n",
              "// to poll for completion of each step.\n",
              "// This uses a Promise to block the python side on completion of each step,\n",
              "// then passes the result of the previous step as the input to the next step.\n",
              "function _uploadFilesContinue(outputId) {\n",
              "  const outputElement = document.getElementById(outputId);\n",
              "  const steps = outputElement.steps;\n",
              "\n",
              "  const next = steps.next(outputElement.lastPromiseValue);\n",
              "  return Promise.resolve(next.value.promise).then((value) => {\n",
              "    // Cache the last promise value to make it available to the next\n",
              "    // step of the generator.\n",
              "    outputElement.lastPromiseValue = value;\n",
              "    return next.value.response;\n",
              "  });\n",
              "}\n",
              "\n",
              "/**\n",
              " * Generator function which is called between each async step of the upload\n",
              " * process.\n",
              " * @param {string} inputId Element ID of the input file picker element.\n",
              " * @param {string} outputId Element ID of the output display.\n",
              " * @return {!Iterable<!Object>} Iterable of next steps.\n",
              " */\n",
              "function* uploadFilesStep(inputId, outputId) {\n",
              "  const inputElement = document.getElementById(inputId);\n",
              "  inputElement.disabled = false;\n",
              "\n",
              "  const outputElement = document.getElementById(outputId);\n",
              "  outputElement.innerHTML = '';\n",
              "\n",
              "  const pickedPromise = new Promise((resolve) => {\n",
              "    inputElement.addEventListener('change', (e) => {\n",
              "      resolve(e.target.files);\n",
              "    });\n",
              "  });\n",
              "\n",
              "  const cancel = document.createElement('button');\n",
              "  inputElement.parentElement.appendChild(cancel);\n",
              "  cancel.textContent = 'Cancel upload';\n",
              "  const cancelPromise = new Promise((resolve) => {\n",
              "    cancel.onclick = () => {\n",
              "      resolve(null);\n",
              "    };\n",
              "  });\n",
              "\n",
              "  // Wait for the user to pick the files.\n",
              "  const files = yield {\n",
              "    promise: Promise.race([pickedPromise, cancelPromise]),\n",
              "    response: {\n",
              "      action: 'starting',\n",
              "    }\n",
              "  };\n",
              "\n",
              "  cancel.remove();\n",
              "\n",
              "  // Disable the input element since further picks are not allowed.\n",
              "  inputElement.disabled = true;\n",
              "\n",
              "  if (!files) {\n",
              "    return {\n",
              "      response: {\n",
              "        action: 'complete',\n",
              "      }\n",
              "    };\n",
              "  }\n",
              "\n",
              "  for (const file of files) {\n",
              "    const li = document.createElement('li');\n",
              "    li.append(span(file.name, {fontWeight: 'bold'}));\n",
              "    li.append(span(\n",
              "        `(${file.type || 'n/a'}) - ${file.size} bytes, ` +\n",
              "        `last modified: ${\n",
              "            file.lastModifiedDate ? file.lastModifiedDate.toLocaleDateString() :\n",
              "                                    'n/a'} - `));\n",
              "    const percent = span('0% done');\n",
              "    li.appendChild(percent);\n",
              "\n",
              "    outputElement.appendChild(li);\n",
              "\n",
              "    const fileDataPromise = new Promise((resolve) => {\n",
              "      const reader = new FileReader();\n",
              "      reader.onload = (e) => {\n",
              "        resolve(e.target.result);\n",
              "      };\n",
              "      reader.readAsArrayBuffer(file);\n",
              "    });\n",
              "    // Wait for the data to be ready.\n",
              "    let fileData = yield {\n",
              "      promise: fileDataPromise,\n",
              "      response: {\n",
              "        action: 'continue',\n",
              "      }\n",
              "    };\n",
              "\n",
              "    // Use a chunked sending to avoid message size limits. See b/62115660.\n",
              "    let position = 0;\n",
              "    do {\n",
              "      const length = Math.min(fileData.byteLength - position, MAX_PAYLOAD_SIZE);\n",
              "      const chunk = new Uint8Array(fileData, position, length);\n",
              "      position += length;\n",
              "\n",
              "      const base64 = btoa(String.fromCharCode.apply(null, chunk));\n",
              "      yield {\n",
              "        response: {\n",
              "          action: 'append',\n",
              "          file: file.name,\n",
              "          data: base64,\n",
              "        },\n",
              "      };\n",
              "\n",
              "      let percentDone = fileData.byteLength === 0 ?\n",
              "          100 :\n",
              "          Math.round((position / fileData.byteLength) * 100);\n",
              "      percent.textContent = `${percentDone}% done`;\n",
              "\n",
              "    } while (position < fileData.byteLength);\n",
              "  }\n",
              "\n",
              "  // All done.\n",
              "  yield {\n",
              "    response: {\n",
              "      action: 'complete',\n",
              "    }\n",
              "  };\n",
              "}\n",
              "\n",
              "scope.google = scope.google || {};\n",
              "scope.google.colab = scope.google.colab || {};\n",
              "scope.google.colab._files = {\n",
              "  _uploadFiles,\n",
              "  _uploadFilesContinue,\n",
              "};\n",
              "})(self);\n",
              "</script> "
            ]
          },
          "metadata": {}
        },
        {
          "output_type": "stream",
          "name": "stdout",
          "text": [
            "Saving ObesityDataSet_raw_and_data_sinthetic_.csv to ObesityDataSet_raw_and_data_sinthetic_.csv\n"
          ]
        }
      ]
    },
    {
      "cell_type": "code",
      "source": [
        "data_raw['Gender'] = data_raw['Gender'].astype('category')\n",
        "\n",
        "data_raw['CALC'] = data_raw['CALC'].astype('category')\n",
        "\n",
        "data_raw['FAVC'] = data_raw['FAVC'].astype('category')\n",
        "\n",
        "data_raw['SCC'] = data_raw['SCC'].astype('category')\n",
        "\n",
        "data_raw['SMOKE'] = data_raw['SMOKE'].astype('category')\n",
        "\n",
        "data_raw['family_history_with_overweight'] = data_raw['family_history_with_overweight'].astype('category')\n",
        "\n",
        "data_raw['CAEC'] = data_raw['CAEC'].astype('category')\n",
        "\n",
        "data_raw['MTRANS'] = data_raw['MTRANS'].astype('category')\n",
        "\n",
        "data_raw['NObeyesdad'] = data_raw['NObeyesdad'].astype('category')"
      ],
      "metadata": {
        "id": "aXiVGmWor8Cd"
      },
      "execution_count": 4,
      "outputs": []
    },
    {
      "cell_type": "code",
      "source": [
        "label_encoder = LabelEncoder()\n",
        "data_raw['NObeyesdad'] = label_encoder.fit_transform(data_raw['NObeyesdad'])"
      ],
      "metadata": {
        "id": "msgbqYSHsfqw"
      },
      "execution_count": 5,
      "outputs": []
    },
    {
      "cell_type": "code",
      "source": [
        "categorical_columns = data_raw.select_dtypes(include=['category']).columns.tolist()\n",
        "\n",
        "for col in categorical_columns:\n",
        "    data_raw[col]=label_encoder.fit_transform(data_raw[col])"
      ],
      "metadata": {
        "id": "lUQVBsxosjxm"
      },
      "execution_count": 6,
      "outputs": []
    },
    {
      "cell_type": "code",
      "source": [
        "scaler=StandardScaler()\n",
        "data_raw[\"Weight\"] = scaler.fit_transform(data_raw[\"Weight\"].values.reshape(-1, 1))"
      ],
      "metadata": {
        "id": "u9FPF95PsqPc"
      },
      "execution_count": 7,
      "outputs": []
    },
    {
      "cell_type": "code",
      "source": [
        "X = data_raw.drop(columns=['NObeyesdad'])\n",
        "y = data_raw['NObeyesdad']\n",
        "\n",
        "X_train, X_test, y_train, y_test = train_test_split(X, y, test_size=0.3, random_state=42)"
      ],
      "metadata": {
        "id": "-XmLc1uPv9V3"
      },
      "execution_count": 54,
      "outputs": []
    },
    {
      "cell_type": "code",
      "source": [
        "# PCA\n",
        "pca = PCA(n_components=2)\n",
        "train_pca = pca.fit_transform(X_train)\n",
        "test_pca = pca.transform(X_test)\n",
        "\n",
        "# KMeans\n",
        "print(\"KMeans Results:\")\n",
        "for i in range(2, 12):\n",
        "    kmeans = KMeans(n_clusters=i, n_init='auto', random_state=0)\n",
        "    kmeans.fit(train_pca)\n",
        "    kmeans_predictions = kmeans.predict(test_pca)\n",
        "\n",
        "    kmeans_ari = adjusted_rand_score(y_test, kmeans_predictions)\n",
        "\n",
        "    print(f\"KMeans with {i} clusters - ARI: {kmeans_ari:.3f}\")\n"
      ],
      "metadata": {
        "colab": {
          "base_uri": "https://localhost:8080/"
        },
        "id": "VyjLHvuXwAWW",
        "outputId": "67ac6ce8-0b1b-4b8f-9bd7-0ce6d490d979"
      },
      "execution_count": 66,
      "outputs": [
        {
          "output_type": "stream",
          "name": "stdout",
          "text": [
            "KMeans Results:\n",
            "KMeans with 2 clusters - ARI: 0.017\n",
            "KMeans with 3 clusters - ARI: 0.058\n",
            "KMeans with 4 clusters - ARI: 0.062\n",
            "KMeans with 5 clusters - ARI: 0.081\n",
            "KMeans with 6 clusters - ARI: 0.082\n",
            "KMeans with 7 clusters - ARI: 0.081\n",
            "KMeans with 8 clusters - ARI: 0.087\n",
            "KMeans with 9 clusters - ARI: 0.088\n",
            "KMeans with 10 clusters - ARI: 0.123\n",
            "KMeans with 11 clusters - ARI: 0.115\n"
          ]
        }
      ]
    },
    {
      "cell_type": "code",
      "source": [
        "# DBSCAN\n",
        "print(\"\\nDBSCAN Results:\")\n",
        "for eps in [0.5, 1, 1.5, 2, 2.5]:\n",
        "    for min_samples in range(6, 15):\n",
        "        dbscan = DBSCAN(eps=eps, min_samples=min_samples)\n",
        "        dbscan_predictions = dbscan.fit_predict(test_pca)\n",
        "\n",
        "        n_clusters_dbscan = len(set(dbscan_predictions)) - (1 if -1 in dbscan_predictions else 0)\n",
        "\n",
        "        if n_clusters_dbscan > 1:\n",
        "            dbscan_ari = adjusted_rand_score(y_test, dbscan_predictions)\n",
        "            print(f\"DBSCAN eps={eps}, min_samples={min_samples} - ARI: {dbscan_ari:.3f}\")\n",
        "\n",
        "        else:\n",
        "            dbscan_ari = -1\n",
        "            dbscan_silhouette = -1\n"
      ],
      "metadata": {
        "colab": {
          "base_uri": "https://localhost:8080/"
        },
        "id": "_Q2DRDVHUyl6",
        "outputId": "35f73108-f5d6-4837-f30f-59fedc060402"
      },
      "execution_count": 67,
      "outputs": [
        {
          "output_type": "stream",
          "name": "stdout",
          "text": [
            "\n",
            "DBSCAN Results:\n",
            "DBSCAN eps=0.5, min_samples=6 - ARI: 0.018\n",
            "DBSCAN eps=0.5, min_samples=7 - ARI: 0.019\n",
            "DBSCAN eps=0.5, min_samples=8 - ARI: 0.015\n",
            "DBSCAN eps=0.5, min_samples=9 - ARI: 0.014\n",
            "DBSCAN eps=0.5, min_samples=10 - ARI: 0.044\n",
            "DBSCAN eps=0.5, min_samples=11 - ARI: 0.067\n",
            "DBSCAN eps=0.5, min_samples=12 - ARI: 0.068\n",
            "DBSCAN eps=0.5, min_samples=13 - ARI: 0.071\n",
            "DBSCAN eps=0.5, min_samples=14 - ARI: 0.071\n",
            "DBSCAN eps=1, min_samples=6 - ARI: 0.001\n",
            "DBSCAN eps=1, min_samples=7 - ARI: 0.001\n",
            "DBSCAN eps=1, min_samples=8 - ARI: 0.016\n",
            "DBSCAN eps=1, min_samples=9 - ARI: 0.016\n",
            "DBSCAN eps=1, min_samples=10 - ARI: 0.015\n",
            "DBSCAN eps=1, min_samples=11 - ARI: 0.015\n",
            "DBSCAN eps=1, min_samples=12 - ARI: 0.015\n",
            "DBSCAN eps=1, min_samples=13 - ARI: 0.016\n",
            "DBSCAN eps=1, min_samples=14 - ARI: 0.016\n",
            "DBSCAN eps=1.5, min_samples=13 - ARI: 0.001\n",
            "DBSCAN eps=1.5, min_samples=14 - ARI: 0.001\n"
          ]
        }
      ]
    },
    {
      "cell_type": "code",
      "source": [
        "linkage_methods = ['ward', 'complete', 'average', 'single']\n",
        "\n",
        "for linkage in linkage_methods:\n",
        "    for n_clusters in range(6, 11):\n",
        "        model = AgglomerativeClustering(n_clusters=n_clusters, linkage=linkage)\n",
        "        agg_labels = model.fit_predict(test_pca)\n",
        "\n",
        "        # Оценка качества кластеризации\n",
        "        agg_ari = adjusted_rand_score(y_test, agg_labels)\n",
        "        if n_clusters > 1:\n",
        "            print(f\"Agglomerative Clustering (Linkage: {linkage}, Clusters: {n_clusters}) - \"\n",
        "              f\"ARI: {agg_ari:.3f}\")\n",
        "        else:\n",
        "            agg_silhouette = -1\n"
      ],
      "metadata": {
        "colab": {
          "base_uri": "https://localhost:8080/"
        },
        "id": "nS4b5SAvwn4u",
        "outputId": "af90a3de-cf69-4778-a601-c64d16fc68e7"
      },
      "execution_count": 68,
      "outputs": [
        {
          "output_type": "stream",
          "name": "stdout",
          "text": [
            "Agglomerative Clustering (Linkage: ward, Clusters: 6) - ARI: 0.084\n",
            "Agglomerative Clustering (Linkage: ward, Clusters: 7) - ARI: 0.084\n",
            "Agglomerative Clustering (Linkage: ward, Clusters: 8) - ARI: 0.114\n",
            "Agglomerative Clustering (Linkage: ward, Clusters: 9) - ARI: 0.137\n",
            "Agglomerative Clustering (Linkage: ward, Clusters: 10) - ARI: 0.123\n",
            "Agglomerative Clustering (Linkage: complete, Clusters: 6) - ARI: 0.058\n",
            "Agglomerative Clustering (Linkage: complete, Clusters: 7) - ARI: 0.058\n",
            "Agglomerative Clustering (Linkage: complete, Clusters: 8) - ARI: 0.051\n",
            "Agglomerative Clustering (Linkage: complete, Clusters: 9) - ARI: 0.050\n",
            "Agglomerative Clustering (Linkage: complete, Clusters: 10) - ARI: 0.048\n",
            "Agglomerative Clustering (Linkage: average, Clusters: 6) - ARI: 0.047\n",
            "Agglomerative Clustering (Linkage: average, Clusters: 7) - ARI: 0.047\n",
            "Agglomerative Clustering (Linkage: average, Clusters: 8) - ARI: 0.066\n",
            "Agglomerative Clustering (Linkage: average, Clusters: 9) - ARI: 0.065\n",
            "Agglomerative Clustering (Linkage: average, Clusters: 10) - ARI: 0.064\n",
            "Agglomerative Clustering (Linkage: single, Clusters: 6) - ARI: 0.001\n",
            "Agglomerative Clustering (Linkage: single, Clusters: 7) - ARI: 0.001\n",
            "Agglomerative Clustering (Linkage: single, Clusters: 8) - ARI: 0.001\n",
            "Agglomerative Clustering (Linkage: single, Clusters: 9) - ARI: 0.001\n",
            "Agglomerative Clustering (Linkage: single, Clusters: 10) - ARI: 0.001\n"
          ]
        }
      ]
    },
    {
      "cell_type": "markdown",
      "source": [
        "Низкие значения ARI. Результат кластеризации слабо согласован с истинными метками классов."
      ],
      "metadata": {
        "id": "MHe1Fp33XqUv"
      }
    }
  ]
}